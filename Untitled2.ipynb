{
 "cells": [
  {
   "cell_type": "code",
   "execution_count": null,
   "id": "f52433d0-ea94-43b3-96f0-0200e06486ab",
   "metadata": {},
   "outputs": [],
   "source": [
    "for i in range(len(response['items'])):\n",
    "    video_ids.append(response['items'][i]['contentDetails']['videoId'])\n",
    "next_page_token = response.get('nextPageToken')\n",
    "more_pages = True\n",
    "\n",
    "while more_pages:\n",
    "    if next_page_token is None:\n",
    "        more_pages = False\n",
    "    else:\n",
    "        request = youtube.playlistItems().list(\n",
    "                    part='contentDetails',\n",
    "                    playlistId playlist_id, maxResults = 50,\n",
    "                    pageToken = next_page_token)\n",
    "        response = request.execute()\n",
    "        \n",
    "for i in range(len(response['items'])):\n",
    "video_ids.append(response['items'] [i] ['contentDetails']['videoId'])\n",
    "next_page_token= response['I]\n",
    "return len(video_ids)"
   ]
  },
  {
   "cell_type": "code",
   "execution_count": 1,
   "id": "1af67a2c-bb5f-402d-aaf8-4c3edc72cff4",
   "metadata": {},
   "outputs": [],
   "source": [
    "car ={\n",
    "  \"brand\": \"Ford\",\n",
    "  \"model\": \"Mustang\",\n",
    "  \"year\": 1964\n",
    "}"
   ]
  },
  {
   "cell_type": "code",
   "execution_count": null,
   "id": "7bd774bd-3c95-4fb4-9e79-ade75dfe91d2",
   "metadata": {},
   "outputs": [],
   "source": []
  }
 ],
 "metadata": {
  "kernelspec": {
   "display_name": "Python 3 (ipykernel)",
   "language": "python",
   "name": "python3"
  },
  "language_info": {
   "codemirror_mode": {
    "name": "ipython",
    "version": 3
   },
   "file_extension": ".py",
   "mimetype": "text/x-python",
   "name": "python",
   "nbconvert_exporter": "python",
   "pygments_lexer": "ipython3",
   "version": "3.9.13"
  }
 },
 "nbformat": 4,
 "nbformat_minor": 5
}
