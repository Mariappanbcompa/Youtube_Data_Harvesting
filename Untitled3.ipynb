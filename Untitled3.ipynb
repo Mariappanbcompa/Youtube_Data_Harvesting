{
 "cells": [
  {
   "cell_type": "code",
   "execution_count": 2,
   "id": "8aabc65e-bb6a-4374-8bc2-0b50cf7d4803",
   "metadata": {
    "tags": []
   },
   "outputs": [],
   "source": [
    "import mysql.connector"
   ]
  },
  {
   "cell_type": "code",
   "execution_count": 48,
   "id": "03662337-3842-4526-a292-ad3ee56c36d0",
   "metadata": {
    "tags": []
   },
   "outputs": [],
   "source": [
    "import mysql.connector\n",
    "\n",
    "host = \"sql12.freesqldatabase.com\"\n",
    "user = \"sql12653296\"\n",
    "password = 'UgqEDaHSNX'\n",
    "\n",
    "try:\n",
    "    mydb = mysql.connector.connect(\n",
    "        host=host,\n",
    "        user=user,\n",
    "        password=password,\n",
    "        )\n",
    "    mycursor = mydb.cursor()\n",
    "\n",
    "except mysql.connector.Error as err:\n",
    "    # Display an error message if the connection fails\n",
    "    print.write(f\"Error: {err}\")"
   ]
  },
  {
   "cell_type": "code",
   "execution_count": 42,
   "id": "b873afb1-bc51-4ffd-b1f6-d8ca47754625",
   "metadata": {
    "tags": []
   },
   "outputs": [],
   "source": [
    "mycursor.execute(\"use sql12653296;\")"
   ]
  },
  {
   "cell_type": "code",
   "execution_count": 43,
   "id": "59fbd961-44ba-4cec-8216-f0906a2c2d07",
   "metadata": {},
   "outputs": [],
   "source": [
    "for i in tables:\n",
    "    print(i)"
   ]
  },
  {
   "cell_type": "code",
   "execution_count": 44,
   "id": "0f1c74a1-b7f5-4118-9509-0e6a3cd5469d",
   "metadata": {},
   "outputs": [],
   "source": [
    "mycursor.execute(\"use sql12653296;\")"
   ]
  },
  {
   "cell_type": "code",
   "execution_count": 47,
   "id": "103fa31d-449c-43ec-83fb-46350134cec8",
   "metadata": {},
   "outputs": [],
   "source": [
    "mycursor.execute(\"select ChannelID from Channel;\")"
   ]
  },
  {
   "cell_type": "code",
   "execution_count": null,
   "id": "11e4602d-9451-4ff1-bedc-3614f3ccd999",
   "metadata": {},
   "outputs": [],
   "source": []
  }
 ],
 "metadata": {
  "kernelspec": {
   "display_name": "Python 3 (ipykernel)",
   "language": "python",
   "name": "python3"
  },
  "language_info": {
   "codemirror_mode": {
    "name": "ipython",
    "version": 3
   },
   "file_extension": ".py",
   "mimetype": "text/x-python",
   "name": "python",
   "nbconvert_exporter": "python",
   "pygments_lexer": "ipython3",
   "version": "3.9.13"
  }
 },
 "nbformat": 4,
 "nbformat_minor": 5
}
