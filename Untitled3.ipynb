{
 "cells": [
  {
   "cell_type": "code",
   "execution_count": 2,
   "id": "8aabc65e-bb6a-4374-8bc2-0b50cf7d4803",
   "metadata": {
    "tags": []
   },
   "outputs": [],
   "source": [
    "import mysql.connector"
   ]
  },
  {
   "cell_type": "code",
   "execution_count": 48,
   "id": "03662337-3842-4526-a292-ad3ee56c36d0",
   "metadata": {
    "tags": []
   },
   "outputs": [],
   "source": [
    "import mysql.connector\n",
    "\n",
    "host = \"sql12.freesqldatabase.com\"\n",
    "user = \"sql12653296\"\n",
    "password = 'UgqEDaHSNX'\n",
    "\n",
    "try:\n",
    "    mydb = mysql.connector.connect(\n",
    "        host=host,\n",
    "        user=user,\n",
    "        password=password,\n",
    "        )\n",
    "    mycursor = mydb.cursor()\n",
    "\n",
    "except mysql.connector.Error as err:\n",
    "    # Display an error message if the connection fails\n",
    "    print.write(f\"Error: {err}\")"
   ]
  },
  {
   "cell_type": "code",
   "execution_count": 42,
   "id": "b873afb1-bc51-4ffd-b1f6-d8ca47754625",
   "metadata": {
    "tags": []
   },
   "outputs": [],
   "source": [
    "mycursor.execute(\"use sql12653296;\")"
   ]
  },
  {
   "cell_type": "code",
   "execution_count": 43,
   "id": "59fbd961-44ba-4cec-8216-f0906a2c2d07",
   "metadata": {},
   "outputs": [],
   "source": [
    "for i in tables:\n",
    "    print(i)"
   ]
  },
  {
   "cell_type": "code",
   "execution_count": 44,
   "id": "0f1c74a1-b7f5-4118-9509-0e6a3cd5469d",
   "metadata": {},
   "outputs": [],
   "source": [
    "mycursor.execute(\"use sql12653296;\")"
   ]
  },
  {
   "cell_type": "code",
   "execution_count": 47,
   "id": "103fa31d-449c-43ec-83fb-46350134cec8",
   "metadata": {},
   "outputs": [],
   "source": [
    "mycursor.execute(\"select ChannelID from Channel;\")"
   ]
  },
  {
   "cell_type": "code",
   "execution_count": 17,
   "id": "ca10a697-cfd9-4627-8737-7ebd97eab3f0",
   "metadata": {},
   "outputs": [],
   "source": [
    "ls,vd,sd=[1],[2],[3]"
   ]
  },
  {
   "cell_type": "code",
   "execution_count": 27,
   "id": "55a775ef-0a3b-4bf9-b932-a5ab5caba71a",
   "metadata": {},
   "outputs": [],
   "source": [
    "plylist_ids = {}"
   ]
  },
  {
   "cell_type": "code",
   "execution_count": 28,
   "id": "744863f9-af36-4fc4-abca-029601a46cd5",
   "metadata": {},
   "outputs": [
    {
     "data": {
      "text/plain": [
       "{}"
      ]
     },
     "execution_count": 28,
     "metadata": {},
     "output_type": "execute_result"
    }
   ],
   "source": [
    "plylist_ids"
   ]
  },
  {
   "cell_type": "code",
   "execution_count": 26,
   "id": "e7033db8-7688-44f3-9e21-2089fa70fbda",
   "metadata": {},
   "outputs": [
    {
     "name": "stdout",
     "output_type": "stream",
     "text": [
      "Processing ID EqV9udzkUGQ\n",
      "Processing ID 5uJus_FpmdQ\n",
      "Processing ID YHLORiRaxhw\n",
      "Processing ID gb7_jdjkfes\n",
      "Processing ID SeiT7Bcv0OY\n",
      "Processing ID 0bIg83qA3Ac\n",
      "Processing ID bL7TRfUDTw4\n",
      "Processing ID pDEFoPdCmXk\n",
      "Processing ID rWc4Q3TfpCE\n",
      "Processing ID qy7-hKlFaDo\n",
      "Processing ID LksXocN_lXw\n",
      "Processing ID gscX6RGYd2k\n",
      "Processing ID fPQIpzFOq5s\n",
      "Processing ID dc5o-ckAsfs\n",
      "Processing ID 8GJqjFoY7UQ\n",
      "Processing ID uLm1qef0wDA\n",
      "Processing ID TWOp6FnZrOk\n",
      "Processing ID txbOTezNnSw\n",
      "Processing ID uVi-wyuC-Fg\n",
      "Processing ID 3B51M78os_Y\n",
      "Processing ID ccbZLzHeb3w\n",
      "Processing ID 6e3KSoX-AM4\n",
      "Processing ID D0uopKMMBUM\n",
      "Processing ID -lCPB5FS4-4\n",
      "Processing ID bMMcznGQAkw\n",
      "Processing ID pTHO-2I2g6I\n",
      "Processing ID FzS-UfuaTLg\n",
      "Processing ID pMdv15YLz8g\n",
      "Processing ID XyCJX5DhVUE\n",
      "Processing ID PtPjnMlbktA\n",
      "Processing ID 3BhMsPNGBZ8\n",
      "Processing ID MoW42XKof0Q\n",
      "Processing ID eVk-DS9XAy4\n",
      "Processing ID NuramFTO6Mk\n",
      "Processing ID mnyKrsU49Zs\n",
      "Processing ID fyAD7fbVCfg\n",
      "Processing ID QJnIGL1KVhc\n",
      "Processing ID PjdBu1GKDn4\n",
      "Processing ID UFNXd0p7rSA\n",
      "Processing ID NIDMcjyIGwE\n",
      "Processing ID oxVmwnFrkRw\n",
      "Processing ID EV3f387kYGE\n",
      "Processing ID Y3ycQVx8TdE\n",
      "Processing ID TKEaakjKrMc\n",
      "Processing ID VOz1O8vXCHU\n",
      "Processing ID Xy6QzowSCtw\n",
      "Processing ID qShbH8hyfwg\n",
      "Processing ID aMUIRZA-iLo\n",
      "Processing ID NYfz6nKzC3c\n",
      "Processing ID fZ9-fDS6yVk\n",
      "Processing ID 4RwrpzLMoRI\n",
      "Processing ID emXMm6QY6ts\n",
      "Processing ID MV8KD5pLfBI\n",
      "Processing ID 0cJtKVlMv7o\n",
      "Processing ID hgpG8gXcppI\n",
      "Processing ID IGtez3XZips\n",
      "Processing ID KlexvOWMEMI\n",
      "Processing ID 2C2YukdtgvI\n",
      "Processing ID -ZKFZnQn1F0\n",
      "Processing ID CcgawGmSGFM\n",
      "Processing ID qAcw7b5lWuE\n",
      "Processing ID sQkgGd7PEfM\n",
      "Processing ID RhkuzwdMfck\n",
      "Processing ID eaB-OSyysKE\n",
      "Processing ID BSk9PEn5BCY\n",
      "Processing ID dE6WF7jYG4c\n",
      "Processing ID hnk8hRHv6qE\n",
      "Processing ID 6jkezamtOF8\n",
      "Processing ID f3nxNO1qruU\n",
      "Processing ID IlZjaFiZyGc\n",
      "Processing ID oI0pGEcrMQw\n",
      "Processing ID n5ld_b0JA_Y\n",
      "Processing ID Lybx2LkwMyQ\n",
      "Processing ID pbgbiN86CRU\n",
      "Processing ID FDXJhXajhn0\n",
      "Processing ID KdcKnwAZXhI\n",
      "Processing ID 1c5BbcYz9F4\n",
      "Processing ID fZuEiIMl5bY\n",
      "Processing ID 2QTAB6-GNeE\n",
      "Processing ID 6YIkFjAN37s\n",
      "Processing ID nQ0qqWuT-u4\n",
      "Processing ID i8ACHqdfcFA\n",
      "Processing ID 1G4_udK7uFA\n",
      "Processing ID xE7-SvqiTqI\n",
      "Processing ID KvLM9AdoWuc\n",
      "Processing ID _rh-PLaYxbQ\n",
      "Processing ID da2JYgTmT64\n",
      "Processing ID _vImIVnfirc\n",
      "Processing ID YjGrUVGKcgs\n",
      "Processing ID 0DtPa0HYQek\n",
      "Processing ID AEnhAw9bcCg\n",
      "Processing ID dXGSC5tJcn8\n",
      "Processing ID h-nMfzuLW6w\n",
      "Processing ID YC5RJng6LEY\n",
      "Processing ID gmcSnlMbl4U\n",
      "Processing ID RE1NxvnKvEc\n",
      "Processing ID SPJ0PD7AkEg\n",
      "Processing ID jRKuOPwB6os\n",
      "Processing ID MewJaAAXb5Y\n",
      "Processing ID 9Xf7gYtWU9U\n",
      "Processing ID FuCuLUY5i14\n",
      "Processing ID dkxaeZFswPM\n",
      "Processing ID zxNmRzNfRY8\n",
      "Processing ID JhbXZUief8w\n",
      "Processing ID D1QpOR4U2og\n",
      "Processing ID Ex24YY4gmAk\n",
      "Processing ID EDQWTqlJ0kQ\n",
      "Processing ID ucnnJI48RNU\n",
      "Processing ID aHmhwhXwu7w\n",
      "Processing ID -W7oIG6q3JE\n",
      "Processing ID sKlcBWqs7L0\n",
      "Processing ID oHT0GiE8MkM\n",
      "Processing ID dldGK19_esU\n",
      "Processing ID UoKCsyDLBxM\n",
      "Processing ID x-nulQ9edZE\n",
      "Processing ID BFFDmel3BlU\n",
      "Processing ID 27liALXzXEE\n",
      "Processing ID _-yGT3M7_XY\n",
      "Processing ID wWY7I5S7A7w\n",
      "Processing ID Cm4-Tkmu38U\n",
      "Processing ID pAPruueMrh8\n",
      "Processing ID 56_zBOjJ8to\n",
      "Processing ID ctEW53vH0ew\n",
      "Processing ID nk-ObE0jC5Y\n",
      "Processing ID gJLMs_-YbSE\n",
      "Processing ID AecWvA79Tns\n",
      "Processing ID zbZFHdDGpFE\n",
      "Processing ID JGJQY7cIa2o\n",
      "Processing ID uOZKbWRTjgI\n",
      "Processing ID BDV6xuLAf4E\n",
      "Processing ID mgYEe0bmvSc\n",
      "Processing ID PnKIHCBEk_k\n",
      "Processing ID sLozlXtemGM\n",
      "Processing ID 2ZCEhklBlMo\n",
      "Processing ID dYFroA7J5DU\n",
      "Processing ID K9JeETHVxqw\n",
      "Processing ID B2grgrpBGCc\n",
      "Processing ID 2tzNuEuue6U\n",
      "Processing ID oNiCKUxe2qw\n",
      "Processing ID kwq5yzhD8x0\n",
      "Processing ID FdU3YeU4Tfc\n",
      "Processing ID viKQCx1frLU\n",
      "Processing ID JrW7qglenz0\n",
      "Processing ID qJss-f7BqFk\n",
      "Processing ID Rq0kw9yC5rg\n",
      "Processing ID h4YjD3RbdwE\n",
      "Processing ID kHULQnYrUIg\n",
      "Processing ID WVFCLQwbU9E\n",
      "Processing ID kGpFZz1D3So\n",
      "Processing ID YRuc852dkdI\n",
      "Processing ID TK9gAGCduqs\n",
      "Processing ID -_UW9A3M304\n",
      "Processing ID z7UtcqqQ1Pc\n",
      "Processing ID 37choLzDTgY\n"
     ]
    }
   ],
   "source": [
    "\n",
    "\n",
    "batch_size = 50  # Number of IDs to process at a time\n",
    "\n",
    "for i in range(0, len(videoids), batch_size):\n",
    "    batch = videoids[i:i + batch_size]  # Get a chunk of 50 IDs\n",
    "    # Process the IDs in the current batch\n",
    "    for videoid in batch:\n",
    "        # Your processing logic here\n",
    "        print(f\"Processing ID {videoid}\")"
   ]
  },
  {
   "cell_type": "code",
   "execution_count": 25,
   "id": "e4101d6a-5c55-4840-840b-cef63e852cf2",
   "metadata": {},
   "outputs": [],
   "source": [
    "videoids = ['EqV9udzkUGQ', '5uJus_FpmdQ', 'YHLORiRaxhw', 'gb7_jdjkfes', 'SeiT7Bcv0OY', '0bIg83qA3Ac', 'bL7TRfUDTw4', 'pDEFoPdCmXk',\n",
    " 'rWc4Q3TfpCE', 'qy7-hKlFaDo', 'LksXocN_lXw', 'gscX6RGYd2k', 'fPQIpzFOq5s', 'dc5o-ckAsfs', '8GJqjFoY7UQ', 'uLm1qef0wDA',\n",
    " 'TWOp6FnZrOk', 'txbOTezNnSw', 'uVi-wyuC-Fg', '3B51M78os_Y', 'ccbZLzHeb3w', '6e3KSoX-AM4', 'D0uopKMMBUM', '-lCPB5FS4-4',\n",
    " 'bMMcznGQAkw', 'pTHO-2I2g6I', 'FzS-UfuaTLg', 'pMdv15YLz8g', 'XyCJX5DhVUE', 'PtPjnMlbktA', '3BhMsPNGBZ8', 'MoW42XKof0Q',\n",
    " 'eVk-DS9XAy4', 'NuramFTO6Mk', 'mnyKrsU49Zs', 'fyAD7fbVCfg', 'QJnIGL1KVhc', 'PjdBu1GKDn4', 'UFNXd0p7rSA', 'NIDMcjyIGwE',\n",
    " 'oxVmwnFrkRw', 'EV3f387kYGE', 'Y3ycQVx8TdE', 'TKEaakjKrMc', 'VOz1O8vXCHU', 'Xy6QzowSCtw', 'qShbH8hyfwg', 'aMUIRZA-iLo',\n",
    " 'NYfz6nKzC3c', 'fZ9-fDS6yVk', '4RwrpzLMoRI', 'emXMm6QY6ts', 'MV8KD5pLfBI', '0cJtKVlMv7o', 'hgpG8gXcppI', 'IGtez3XZips',\n",
    " 'KlexvOWMEMI', '2C2YukdtgvI', '-ZKFZnQn1F0', 'CcgawGmSGFM', 'qAcw7b5lWuE', 'sQkgGd7PEfM', 'RhkuzwdMfck', 'eaB-OSyysKE',\n",
    " 'BSk9PEn5BCY', 'dE6WF7jYG4c', 'hnk8hRHv6qE', '6jkezamtOF8', 'f3nxNO1qruU', 'IlZjaFiZyGc', 'oI0pGEcrMQw', 'n5ld_b0JA_Y',\n",
    " 'Lybx2LkwMyQ', 'pbgbiN86CRU', 'FDXJhXajhn0', 'KdcKnwAZXhI', '1c5BbcYz9F4', 'fZuEiIMl5bY', '2QTAB6-GNeE', '6YIkFjAN37s',\n",
    " 'nQ0qqWuT-u4', 'i8ACHqdfcFA', '1G4_udK7uFA', 'xE7-SvqiTqI', 'KvLM9AdoWuc', '_rh-PLaYxbQ', 'da2JYgTmT64', '_vImIVnfirc',\n",
    " 'YjGrUVGKcgs', '0DtPa0HYQek', 'AEnhAw9bcCg', 'dXGSC5tJcn8', 'h-nMfzuLW6w', 'YC5RJng6LEY', 'gmcSnlMbl4U', 'RE1NxvnKvEc',\n",
    " 'SPJ0PD7AkEg', 'jRKuOPwB6os', 'MewJaAAXb5Y', '9Xf7gYtWU9U', 'FuCuLUY5i14', 'dkxaeZFswPM', 'zxNmRzNfRY8', 'JhbXZUief8w',\n",
    " 'D1QpOR4U2og', 'Ex24YY4gmAk', 'EDQWTqlJ0kQ', 'ucnnJI48RNU', 'aHmhwhXwu7w', '-W7oIG6q3JE', 'sKlcBWqs7L0', 'oHT0GiE8MkM',\n",
    " 'dldGK19_esU', 'UoKCsyDLBxM', 'x-nulQ9edZE', 'BFFDmel3BlU', '27liALXzXEE', '_-yGT3M7_XY', 'wWY7I5S7A7w', 'Cm4-Tkmu38U', 'pAPruueMrh8', '56_zBOjJ8to',\n",
    " 'ctEW53vH0ew', 'nk-ObE0jC5Y', 'gJLMs_-YbSE', 'AecWvA79Tns', 'zbZFHdDGpFE', 'JGJQY7cIa2o', 'uOZKbWRTjgI', 'BDV6xuLAf4E',\n",
    " 'mgYEe0bmvSc', 'PnKIHCBEk_k', 'sLozlXtemGM', '2ZCEhklBlMo', 'dYFroA7J5DU', 'K9JeETHVxqw', 'B2grgrpBGCc', '2tzNuEuue6U',\n",
    " 'oNiCKUxe2qw', 'kwq5yzhD8x0', 'FdU3YeU4Tfc', 'viKQCx1frLU', 'JrW7qglenz0', 'qJss-f7BqFk', 'Rq0kw9yC5rg', 'h4YjD3RbdwE',\n",
    " 'kHULQnYrUIg', 'WVFCLQwbU9E', 'kGpFZz1D3So', 'YRuc852dkdI', 'TK9gAGCduqs', '-_UW9A3M304', 'z7UtcqqQ1Pc', '37choLzDTgY']"
   ]
  },
  {
   "cell_type": "code",
   "execution_count": null,
   "id": "2ef0352c-89c9-4476-b56d-44cf888913e6",
   "metadata": {},
   "outputs": [],
   "source": []
  }
 ],
 "metadata": {
  "kernelspec": {
   "display_name": "Python 3 (ipykernel)",
   "language": "python",
   "name": "python3"
  },
  "language_info": {
   "codemirror_mode": {
    "name": "ipython",
    "version": 3
   },
   "file_extension": ".py",
   "mimetype": "text/x-python",
   "name": "python",
   "nbconvert_exporter": "python",
   "pygments_lexer": "ipython3",
   "version": "3.9.13"
  }
 },
 "nbformat": 4,
 "nbformat_minor": 5
}
